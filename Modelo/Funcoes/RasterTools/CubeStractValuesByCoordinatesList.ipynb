{
 "cells": [
  {
   "cell_type": "code",
   "execution_count": 1,
   "metadata": {},
   "outputs": [],
   "source": [
    "import glob\n",
    "from os import path\n",
    "import numpy as np\n",
    "import matplotlib.pyplot as plt\n",
    "from Modelo.beans import RasterData, SerialFileData"
   ]
  },
  {
   "cell_type": "code",
   "execution_count": 188,
   "metadata": {},
   "outputs": [],
   "source": [
    "#cubo_ecmwf_e = RasterData.RasterFile(file_full_path=r\"D:\\ClimatcDataECMWF_ERA5LAND\\ECMWF_ERA5LAND\\3-tp\\2008-2020_tp_D.tif\")\n",
    "#cubo_ecmwf_e = RasterData.RasterFile(file_full_path=r\"D:\\1-DadosClimaticos\\Xavier\\prec_daily20100101_20151231.tif\")\n",
    "cubo_ecmwf_e = RasterData.RasterFile(file_full_path=r\"D:\\1-DadosClimaticos\\Xavier\\ETo_daily_UT_Brazil_v2_20140101_20170731_s1.tif\")"
   ]
  },
  {
   "cell_type": "code",
   "execution_count": 189,
   "metadata": {},
   "outputs": [
    {
     "name": "stdout",
     "output_type": "stream",
     "text": [
      "{'nx': '168', 'ny': '162', 'xmin': '-74.2500000', 'ymin': '6.2500000', 'xmax': '-32.2500000', 'ymax': '-34.2500000', 'NoData': '9.96920996838686905e+36'}\n",
      "0.25\n",
      "0.25\n"
     ]
    }
   ],
   "source": [
    "ri = cubo_ecmwf_e.getRasterInformation()\n",
    "print(ri)\n",
    "px_width = (float(ri['xmax'])-float(ri['xmin']))/float(ri['nx'])\n",
    "px_height = +((float(ri['ymin'])-float(ri['ymax']))/float(ri['ny']))\n",
    "print(px_width)\n",
    "print(px_height)"
   ]
  },
  {
   "cell_type": "code",
   "execution_count": 1,
   "metadata": {
    "scrolled": true
   },
   "outputs": [
    {
     "data": {
      "text/html": [
       "<div>\n",
       "<style scoped>\n",
       "    .dataframe tbody tr th:only-of-type {\n",
       "        vertical-align: middle;\n",
       "    }\n",
       "\n",
       "    .dataframe tbody tr th {\n",
       "        vertical-align: top;\n",
       "    }\n",
       "\n",
       "    .dataframe thead th {\n",
       "        text-align: right;\n",
       "    }\n",
       "</style>\n",
       "<table border=\"1\" class=\"dataframe\">\n",
       "  <thead>\n",
       "    <tr style=\"text-align: right;\">\n",
       "      <th></th>\n",
       "      <th>latitude</th>\n",
       "      <th>longitude</th>\n",
       "    </tr>\n",
       "  </thead>\n",
       "  <tbody>\n",
       "    <tr>\n",
       "      <th>0</th>\n",
       "      <td>2.82</td>\n",
       "      <td>-60.66</td>\n",
       "    </tr>\n",
       "    <tr>\n",
       "      <th>1</th>\n",
       "      <td>1.83</td>\n",
       "      <td>-61.12</td>\n",
       "    </tr>\n",
       "    <tr>\n",
       "      <th>2</th>\n",
       "      <td>0.61</td>\n",
       "      <td>-69.18</td>\n",
       "    </tr>\n",
       "    <tr>\n",
       "      <th>3</th>\n",
       "      <td>-0.05</td>\n",
       "      <td>-51.11</td>\n",
       "    </tr>\n",
       "    <tr>\n",
       "      <th>4</th>\n",
       "      <td>-0.11</td>\n",
       "      <td>-67.00</td>\n",
       "    </tr>\n",
       "  </tbody>\n",
       "</table>\n",
       "</div>"
      ],
      "text/plain": [
       "   latitude  longitude\n",
       "0      2.82     -60.66\n",
       "1      1.83     -61.12\n",
       "2      0.61     -69.18\n",
       "3     -0.05     -51.11\n",
       "4     -0.11     -67.00"
      ]
     },
     "execution_count": 1,
     "metadata": {},
     "output_type": "execute_result"
    }
   ],
   "source": [
    "import pandas as pd\n",
    "\n",
    "coordenadas = pd.read_csv(r\"D:\\1-DadosClimaticos\\Xavier\\weather2_coordenadas_todas.csv\", sep=\";\")\n",
    "\n",
    "coordenadas.head()"
   ]
  },
  {
   "cell_type": "code",
   "execution_count": 190,
   "metadata": {
    "scrolled": true
   },
   "outputs": [
    {
     "name": "stdout",
     "output_type": "stream",
     "text": [
      "-32.25\n",
      "-34.0\n",
      "1\n",
      "1\n",
      "####################\n",
      "-62.91\n",
      "-0.96\n",
      "45\n",
      "29\n"
     ]
    }
   ],
   "source": [
    "import math\n",
    "\n",
    "def coordenada2pos(coordenada, maximo, w):\n",
    "    pos = math.floor(((float(coordenada) - float(maximo)) / float(w)))\n",
    "    return pos*-1 if pos < 0 else pos\n",
    "\n",
    "print(float(ri['xmax']))\n",
    "print(float(ri['ymax']) + px_height)\n",
    "\n",
    "print(coordenada2pos(float(ri['xmax']) + px_width, ri['xmax'], px_width))\n",
    "print(coordenada2pos(float(ri['ymax']) + px_height, ri['ymax'], px_height))\n",
    "\n",
    "print(\"####################\")\n",
    "\n",
    "coor_teste = 5\n",
    "\n",
    "print(coordenadas['longitude'][coor_teste])\n",
    "print(coordenadas['latitude'][coor_teste])\n",
    "\n",
    "\n",
    "print(coordenada2pos(coordenadas['longitude'][coor_teste], ri['xmin'], px_width))\n",
    "print(coordenada2pos(coordenadas['latitude'][coor_teste], ri['ymin'], px_height))"
   ]
  },
  {
   "cell_type": "code",
   "execution_count": 191,
   "metadata": {},
   "outputs": [],
   "source": [
    "coordenadas['pos_x'] = [(lambda c: coordenada2pos(c, ri['xmin'], px_width))(c) for c in coordenadas['longitude']]\n",
    "coordenadas['pos_y'] = [(lambda c: coordenada2pos(c, ri['ymin'], px_width))(c) for c in coordenadas['latitude']]"
   ]
  },
  {
   "cell_type": "code",
   "execution_count": 192,
   "metadata": {},
   "outputs": [
    {
     "name": "stdout",
     "output_type": "stream",
     "text": [
      "imagem lida, numero de bandas: 1308\n"
     ]
    }
   ],
   "source": [
    "cubo_ecmwf_e_ = cubo_ecmwf_e.loadRasterData(isCube=True)"
   ]
  },
  {
   "cell_type": "code",
   "execution_count": 193,
   "metadata": {},
   "outputs": [],
   "source": [
    "stations_stracted_variables = []\n",
    "\n",
    "\n",
    "def getXY(img, row):\n",
    "    try:\n",
    "        return img[row['pos_x']][row['pos_y']] #* 100\n",
    "    except Exception as e:\n",
    "        return None\n",
    "    \n",
    "\n",
    "for row in coordenadas.to_dict(orient=\"records\"):\n",
    "    extracted_values = [(lambda c: getXY(c, row))(c) for c in cubo_ecmwf_e_]\n",
    "    stations_stracted_variables.append(extracted_values)"
   ]
  },
  {
   "cell_type": "code",
   "execution_count": 196,
   "metadata": {},
   "outputs": [],
   "source": [
    "n_stations = len(stations_stracted_variables)\n",
    "teste_rotate = np.transpose(stations_stracted_variables)\n",
    "\n",
    "#df_extracted = pd.DataFrame(teste_rotate, columns=range(1,n_stations+1), index = pd.date_range(\"2008-01-01\",\"2020-11-01\"))\n",
    "df_extracted = pd.DataFrame(teste_rotate, columns=range(1,n_stations+1), index = pd.date_range(\"2014-01-01\",\"2017-07-31\"))\n",
    "df_extracted.head()\n",
    "#df_extracted.to_csv(r\"D:\\1-DadosClimaticos\\ecmwf\\ECMWF_TotalPrecipitation_wStations_2008-2020_D.csv\", sep=\";\")\n",
    "df_extracted.to_csv(r\"D:\\1-DadosClimaticos\\Xavier\\Xavier_ETo_wStations_2014-2017_D.csv\", sep=\";\")\n"
   ]
  }
 ],
 "metadata": {
  "kernelspec": {
   "display_name": "Python 3",
   "language": "python",
   "name": "python3"
  },
  "language_info": {
   "codemirror_mode": {
    "name": "ipython",
    "version": 3
   },
   "file_extension": ".py",
   "mimetype": "text/x-python",
   "name": "python",
   "nbconvert_exporter": "python",
   "pygments_lexer": "ipython3",
   "version": "3.8.6"
  }
 },
 "nbformat": 4,
 "nbformat_minor": 4
}
